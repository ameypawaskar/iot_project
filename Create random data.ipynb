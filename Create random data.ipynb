{
 "cells": [
  {
   "cell_type": "code",
   "execution_count": 21,
   "id": "de7ba2be",
   "metadata": {},
   "outputs": [],
   "source": [
    "import numpy as np\n",
    "import random\n",
    "from datetime import datetime\n",
    "import json"
   ]
  },
  {
   "cell_type": "code",
   "execution_count": 15,
   "id": "2852ef2f",
   "metadata": {},
   "outputs": [
    {
     "name": "stdout",
     "output_type": "stream",
     "text": [
      "2022-10-06 14:23:03.105016\n"
     ]
    }
   ],
   "source": [
    "print(datetime.now())"
   ]
  },
  {
   "cell_type": "code",
   "execution_count": 86,
   "id": "ef8cce49",
   "metadata": {},
   "outputs": [],
   "source": [
    "def generate_values(count,temp_min_limit,temp_max_limit,humd_min_limit,humd_max_limit):\n",
    "    op  = []\n",
    "    for i in range(0,count):\n",
    "        now = datetime.now()\n",
    "        cu_time = now.strftime(\"%Y-%m-%d %I:%M:%S\")\n",
    "        temp =  round(random.uniform(temp_min_limit,temp_max_limit),2)\n",
    "        humd =  round(random.uniform(humd_min_limit,humd_max_limit),2)\n",
    "        #print(cu_time)\n",
    "        #print(temp)\n",
    "        #print(humd)\n",
    "        op.append({\"time\":cu_time,\n",
    "                   \"temperature\":temp,\n",
    "                   \"humidity\":humd})\n",
    "        i = i + 1 \n",
    "    final = json.dumps(op)\n",
    "        \n",
    "    return final"
   ]
  },
  {
   "cell_type": "code",
   "execution_count": 87,
   "id": "c712b1b8",
   "metadata": {},
   "outputs": [],
   "source": [
    "data = generate_values(5,15,50,50,100)"
   ]
  },
  {
   "cell_type": "code",
   "execution_count": 88,
   "id": "e8704165",
   "metadata": {},
   "outputs": [
    {
     "name": "stdout",
     "output_type": "stream",
     "text": [
      "[{\"time\": \"2022-10-06 02:51:55\", \"temperature\": 19.41, \"humidity\": 89.22}, {\"time\": \"2022-10-06 02:51:55\", \"temperature\": 22.04, \"humidity\": 71.54}, {\"time\": \"2022-10-06 02:51:55\", \"temperature\": 35.73, \"humidity\": 55.43}, {\"time\": \"2022-10-06 02:51:55\", \"temperature\": 43.73, \"humidity\": 59.05}, {\"time\": \"2022-10-06 02:51:55\", \"temperature\": 42.04, \"humidity\": 92.43}]\n"
     ]
    }
   ],
   "source": [
    "print(data)"
   ]
  },
  {
   "cell_type": "code",
   "execution_count": null,
   "id": "0c8eaf0a",
   "metadata": {},
   "outputs": [],
   "source": []
  }
 ],
 "metadata": {
  "kernelspec": {
   "display_name": "Python 3 (ipykernel)",
   "language": "python",
   "name": "python3"
  },
  "language_info": {
   "codemirror_mode": {
    "name": "ipython",
    "version": 3
   },
   "file_extension": ".py",
   "mimetype": "text/x-python",
   "name": "python",
   "nbconvert_exporter": "python",
   "pygments_lexer": "ipython3",
   "version": "3.9.12"
  }
 },
 "nbformat": 4,
 "nbformat_minor": 5
}
